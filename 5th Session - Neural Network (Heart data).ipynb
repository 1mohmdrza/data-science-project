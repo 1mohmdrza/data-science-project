{
 "cells": [
  {
   "cell_type": "code",
   "execution_count": 3,
   "metadata": {},
   "outputs": [
    {
     "data": {
      "text/html": [
       "<div>\n",
       "<style scoped>\n",
       "    .dataframe tbody tr th:only-of-type {\n",
       "        vertical-align: middle;\n",
       "    }\n",
       "\n",
       "    .dataframe tbody tr th {\n",
       "        vertical-align: top;\n",
       "    }\n",
       "\n",
       "    .dataframe thead th {\n",
       "        text-align: right;\n",
       "    }\n",
       "</style>\n",
       "<table border=\"1\" class=\"dataframe\">\n",
       "  <thead>\n",
       "    <tr style=\"text-align: right;\">\n",
       "      <th></th>\n",
       "      <th>Age (age in year)</th>\n",
       "      <th>sex</th>\n",
       "      <th>chest pain</th>\n",
       "      <th>blood pressure</th>\n",
       "      <th>cholestoral</th>\n",
       "      <th>blood sugar</th>\n",
       "      <th>electrocardiographic</th>\n",
       "      <th>heart rate</th>\n",
       "      <th>exercise induced</th>\n",
       "      <th>depression</th>\n",
       "      <th>slope</th>\n",
       "      <th>ca</th>\n",
       "      <th>thal</th>\n",
       "      <th>c</th>\n",
       "    </tr>\n",
       "  </thead>\n",
       "  <tbody>\n",
       "    <tr>\n",
       "      <th>0</th>\n",
       "      <td>63</td>\n",
       "      <td>1</td>\n",
       "      <td>1</td>\n",
       "      <td>145.0</td>\n",
       "      <td>233.0</td>\n",
       "      <td>1.0</td>\n",
       "      <td>2.0</td>\n",
       "      <td>150.0</td>\n",
       "      <td>0.0</td>\n",
       "      <td>2.3</td>\n",
       "      <td>3.0</td>\n",
       "      <td>0.0</td>\n",
       "      <td>6.0</td>\n",
       "      <td>0</td>\n",
       "    </tr>\n",
       "    <tr>\n",
       "      <th>1</th>\n",
       "      <td>37</td>\n",
       "      <td>1</td>\n",
       "      <td>3</td>\n",
       "      <td>130.0</td>\n",
       "      <td>250.0</td>\n",
       "      <td>0.0</td>\n",
       "      <td>0.0</td>\n",
       "      <td>187.0</td>\n",
       "      <td>0.0</td>\n",
       "      <td>3.5</td>\n",
       "      <td>3.0</td>\n",
       "      <td>0.0</td>\n",
       "      <td>3.0</td>\n",
       "      <td>0</td>\n",
       "    </tr>\n",
       "    <tr>\n",
       "      <th>2</th>\n",
       "      <td>41</td>\n",
       "      <td>0</td>\n",
       "      <td>2</td>\n",
       "      <td>130.0</td>\n",
       "      <td>204.0</td>\n",
       "      <td>0.0</td>\n",
       "      <td>2.0</td>\n",
       "      <td>172.0</td>\n",
       "      <td>0.0</td>\n",
       "      <td>1.4</td>\n",
       "      <td>1.0</td>\n",
       "      <td>0.0</td>\n",
       "      <td>3.0</td>\n",
       "      <td>0</td>\n",
       "    </tr>\n",
       "    <tr>\n",
       "      <th>3</th>\n",
       "      <td>56</td>\n",
       "      <td>1</td>\n",
       "      <td>2</td>\n",
       "      <td>120.0</td>\n",
       "      <td>236.0</td>\n",
       "      <td>0.0</td>\n",
       "      <td>0.0</td>\n",
       "      <td>178.0</td>\n",
       "      <td>0.0</td>\n",
       "      <td>0.8</td>\n",
       "      <td>1.0</td>\n",
       "      <td>0.0</td>\n",
       "      <td>3.0</td>\n",
       "      <td>0</td>\n",
       "    </tr>\n",
       "    <tr>\n",
       "      <th>4</th>\n",
       "      <td>57</td>\n",
       "      <td>0</td>\n",
       "      <td>4</td>\n",
       "      <td>120.0</td>\n",
       "      <td>354.0</td>\n",
       "      <td>0.0</td>\n",
       "      <td>0.0</td>\n",
       "      <td>163.0</td>\n",
       "      <td>1.0</td>\n",
       "      <td>0.6</td>\n",
       "      <td>1.0</td>\n",
       "      <td>0.0</td>\n",
       "      <td>3.0</td>\n",
       "      <td>0</td>\n",
       "    </tr>\n",
       "  </tbody>\n",
       "</table>\n",
       "</div>"
      ],
      "text/plain": [
       "   Age (age in year)  sex  chest pain  blood pressure  cholestoral   \\\n",
       "0                 63    1           1           145.0         233.0   \n",
       "1                 37    1           3           130.0         250.0   \n",
       "2                 41    0           2           130.0         204.0   \n",
       "3                 56    1           2           120.0         236.0   \n",
       "4                 57    0           4           120.0         354.0   \n",
       "\n",
       "   blood sugar  electrocardiographic   heart rate  exercise induced  \\\n",
       "0          1.0                    2.0       150.0               0.0   \n",
       "1          0.0                    0.0       187.0               0.0   \n",
       "2          0.0                    2.0       172.0               0.0   \n",
       "3          0.0                    0.0       178.0               0.0   \n",
       "4          0.0                    0.0       163.0               1.0   \n",
       "\n",
       "   depression   slope   ca  thal  c  \n",
       "0          2.3    3.0  0.0   6.0  0  \n",
       "1          3.5    3.0  0.0   3.0  0  \n",
       "2          1.4    1.0  0.0   3.0  0  \n",
       "3          0.8    1.0  0.0   3.0  0  \n",
       "4          0.6    1.0  0.0   3.0  0  "
      ]
     },
     "execution_count": 3,
     "metadata": {},
     "output_type": "execute_result"
    }
   ],
   "source": [
    "import pandas as pd\n",
    "import numpy as np\n",
    "df=pd.read_csv('C:/Users/asus//Desktop/Session3/Heart data.csv')\n",
    "df.head()"
   ]
  },
  {
   "cell_type": "code",
   "execution_count": 4,
   "metadata": {},
   "outputs": [],
   "source": [
    "df = df.fillna(0)"
   ]
  },
  {
   "cell_type": "code",
   "execution_count": 5,
   "metadata": {},
   "outputs": [],
   "source": [
    "x = df.drop(\"c\" , axis = 1)\n",
    "y = df.c"
   ]
  },
  {
   "cell_type": "code",
   "execution_count": 6,
   "metadata": {},
   "outputs": [],
   "source": [
    "from sklearn.neural_network import MLPClassifier\n"
   ]
  },
  {
   "cell_type": "code",
   "execution_count": 7,
   "metadata": {
    "scrolled": true
   },
   "outputs": [
    {
     "name": "stderr",
     "output_type": "stream",
     "text": [
      "C:\\Users\\asus\\anaconda3\\lib\\site-packages\\sklearn\\neural_network\\_multilayer_perceptron.py:614: ConvergenceWarning: Stochastic Optimizer: Maximum iterations (200) reached and the optimization hasn't converged yet.\n",
      "  warnings.warn(\n",
      "C:\\Users\\asus\\anaconda3\\lib\\site-packages\\sklearn\\neural_network\\_multilayer_perceptron.py:614: ConvergenceWarning: Stochastic Optimizer: Maximum iterations (200) reached and the optimization hasn't converged yet.\n",
      "  warnings.warn(\n"
     ]
    },
    {
     "data": {
      "text/plain": [
       "0.8228813559322035"
      ]
     },
     "execution_count": 7,
     "metadata": {},
     "output_type": "execute_result"
    }
   ],
   "source": [
    "from sklearn.model_selection import cross_val_predict, cross_val_score\n",
    "\n",
    "MLP = MLPClassifier()\n",
    "\n",
    "\n",
    "scores = cross_val_score(MLP, x , y , cv =10 , scoring = 'accuracy')\n",
    "scores.mean()"
   ]
  },
  {
   "cell_type": "code",
   "execution_count": 8,
   "metadata": {},
   "outputs": [
    {
     "name": "stderr",
     "output_type": "stream",
     "text": [
      "C:\\Users\\asus\\anaconda3\\lib\\site-packages\\sklearn\\neural_network\\_multilayer_perceptron.py:614: ConvergenceWarning: Stochastic Optimizer: Maximum iterations (200) reached and the optimization hasn't converged yet.\n",
      "  warnings.warn(\n",
      "C:\\Users\\asus\\anaconda3\\lib\\site-packages\\sklearn\\neural_network\\_multilayer_perceptron.py:614: ConvergenceWarning: Stochastic Optimizer: Maximum iterations (200) reached and the optimization hasn't converged yet.\n",
      "  warnings.warn(\n",
      "C:\\Users\\asus\\anaconda3\\lib\\site-packages\\sklearn\\neural_network\\_multilayer_perceptron.py:614: ConvergenceWarning: Stochastic Optimizer: Maximum iterations (200) reached and the optimization hasn't converged yet.\n",
      "  warnings.warn(\n"
     ]
    },
    {
     "data": {
      "text/plain": [
       "0.8161864406779662"
      ]
     },
     "execution_count": 8,
     "metadata": {},
     "output_type": "execute_result"
    }
   ],
   "source": [
    "MLP = MLPClassifier(activation = 'relu')\n",
    "scores = cross_val_score(MLP, x , y , cv =10 , scoring = 'accuracy')\n",
    "scores.mean()"
   ]
  },
  {
   "cell_type": "code",
   "execution_count": 9,
   "metadata": {},
   "outputs": [
    {
     "name": "stderr",
     "output_type": "stream",
     "text": [
      "C:\\Users\\M\\anaconda3\\lib\\site-packages\\sklearn\\neural_network\\_multilayer_perceptron.py:582: ConvergenceWarning: Stochastic Optimizer: Maximum iterations (200) reached and the optimization hasn't converged yet.\n",
      "  warnings.warn(\n"
     ]
    },
    {
     "data": {
      "text/plain": [
       "0.7944350282485876"
      ]
     },
     "execution_count": 9,
     "metadata": {},
     "output_type": "execute_result"
    }
   ],
   "source": [
    "MLP = MLPClassifier(activation = 'relu', random_state = 8)\n",
    "scores = cross_val_score(MLP, x , y , cv =10 , scoring = 'accuracy')\n",
    "scores.mean()\n",
    "\n"
   ]
  },
  {
   "cell_type": "code",
   "execution_count": 10,
   "metadata": {},
   "outputs": [
    {
     "data": {
      "text/plain": [
       "0.7775423728813559"
      ]
     },
     "execution_count": 10,
     "metadata": {},
     "output_type": "execute_result"
    }
   ],
   "source": [
    "MLP = MLPClassifier(activation = 'relu',\n",
    "                    hidden_layer_sizes = (100, 120))\n",
    "\n",
    "\n",
    "scores = cross_val_score(MLP, x , y , cv =10 , scoring = 'accuracy')\n",
    "scores.mean()"
   ]
  },
  {
   "cell_type": "code",
   "execution_count": 11,
   "metadata": {},
   "outputs": [
    {
     "data": {
      "text/plain": [
       "0.7473728813559323"
      ]
     },
     "execution_count": 11,
     "metadata": {},
     "output_type": "execute_result"
    }
   ],
   "source": [
    "MLP = MLPClassifier(activation = 'relu'\n",
    "                    , hidden_layer_sizes = (100, 120),\n",
    "                    learning_rate_init = 0.05)\n",
    "\n",
    "\n",
    "\n",
    "scores = cross_val_score(MLP, x , y , cv =10 , scoring = 'accuracy')\n",
    "scores.mean()"
   ]
  },
  {
   "cell_type": "code",
   "execution_count": 12,
   "metadata": {},
   "outputs": [
    {
     "data": {
      "text/plain": [
       "0.6919209039548022"
      ]
     },
     "execution_count": 12,
     "metadata": {},
     "output_type": "execute_result"
    }
   ],
   "source": [
    "MLP = MLPClassifier(activation = 'relu',\n",
    "                    hidden_layer_sizes = (100, 120),\n",
    "                    learning_rate_init = 0.05,\n",
    "                    learning_rate = 'invscaling' )\n",
    "\n",
    "\n",
    "scores = cross_val_score(MLP, x , y , cv =10 , scoring = 'accuracy')\n",
    "scores.mean()"
   ]
  },
  {
   "cell_type": "code",
   "execution_count": 13,
   "metadata": {},
   "outputs": [
    {
     "data": {
      "text/plain": [
       "0.6279661016949152"
      ]
     },
     "execution_count": 13,
     "metadata": {},
     "output_type": "execute_result"
    }
   ],
   "source": [
    "\n",
    "MLP = MLPClassifier(activation = 'relu',\n",
    "                    hidden_layer_sizes = (100, 120),\n",
    "                    learning_rate_init = 0.05,\n",
    "                    learning_rate = 'invscaling',\n",
    "                    momentum = 0.9 )\n",
    "\n",
    "\n",
    "scores = cross_val_score(MLP, x , y , cv =10 , scoring = 'accuracy')\n",
    "scores.mean()"
   ]
  },
  {
   "cell_type": "code",
   "execution_count": 19,
   "metadata": {},
   "outputs": [
    {
     "name": "stderr",
     "output_type": "stream",
     "text": [
      "C:\\Users\\AmirReza\\Anaconda3\\lib\\site-packages\\sklearn\\neural_network\\multilayer_perceptron.py:562: ConvergenceWarning: Stochastic Optimizer: Maximum iterations (50) reached and the optimization hasn't converged yet.\n",
      "  % self.max_iter, ConvergenceWarning)\n",
      "C:\\Users\\AmirReza\\Anaconda3\\lib\\site-packages\\sklearn\\neural_network\\multilayer_perceptron.py:562: ConvergenceWarning: Stochastic Optimizer: Maximum iterations (50) reached and the optimization hasn't converged yet.\n",
      "  % self.max_iter, ConvergenceWarning)\n",
      "C:\\Users\\AmirReza\\Anaconda3\\lib\\site-packages\\sklearn\\neural_network\\multilayer_perceptron.py:562: ConvergenceWarning: Stochastic Optimizer: Maximum iterations (50) reached and the optimization hasn't converged yet.\n",
      "  % self.max_iter, ConvergenceWarning)\n",
      "C:\\Users\\AmirReza\\Anaconda3\\lib\\site-packages\\sklearn\\neural_network\\multilayer_perceptron.py:562: ConvergenceWarning: Stochastic Optimizer: Maximum iterations (50) reached and the optimization hasn't converged yet.\n",
      "  % self.max_iter, ConvergenceWarning)\n",
      "C:\\Users\\AmirReza\\Anaconda3\\lib\\site-packages\\sklearn\\neural_network\\multilayer_perceptron.py:562: ConvergenceWarning: Stochastic Optimizer: Maximum iterations (50) reached and the optimization hasn't converged yet.\n",
      "  % self.max_iter, ConvergenceWarning)\n",
      "C:\\Users\\AmirReza\\Anaconda3\\lib\\site-packages\\sklearn\\neural_network\\multilayer_perceptron.py:562: ConvergenceWarning: Stochastic Optimizer: Maximum iterations (50) reached and the optimization hasn't converged yet.\n",
      "  % self.max_iter, ConvergenceWarning)\n",
      "C:\\Users\\AmirReza\\Anaconda3\\lib\\site-packages\\sklearn\\neural_network\\multilayer_perceptron.py:562: ConvergenceWarning: Stochastic Optimizer: Maximum iterations (50) reached and the optimization hasn't converged yet.\n",
      "  % self.max_iter, ConvergenceWarning)\n",
      "C:\\Users\\AmirReza\\Anaconda3\\lib\\site-packages\\sklearn\\neural_network\\multilayer_perceptron.py:562: ConvergenceWarning: Stochastic Optimizer: Maximum iterations (50) reached and the optimization hasn't converged yet.\n",
      "  % self.max_iter, ConvergenceWarning)\n"
     ]
    },
    {
     "data": {
      "text/plain": [
       "0.6769658238399556"
      ]
     },
     "execution_count": 19,
     "metadata": {},
     "output_type": "execute_result"
    }
   ],
   "source": [
    "MLP = MLPClassifier(activation = 'relu',\n",
    "                    hidden_layer_sizes = (100, 120),\n",
    "                    learning_rate_init = 0.05,\n",
    "                    learning_rate = 'invscaling',\n",
    "                    momentum = 0.9, max_iter = 50)\n",
    "\n",
    "scores = cross_val_score(MLP, x , y , cv =10 , scoring = 'accuracy')\n",
    "scores.mean()"
   ]
  },
  {
   "cell_type": "code",
   "execution_count": 31,
   "metadata": {},
   "outputs": [
    {
     "name": "stdout",
     "output_type": "stream",
     "text": [
      "Iteration 1, loss = 8.40556434\n",
      "Iteration 2, loss = 9.28691632\n",
      "Iteration 3, loss = 1.54498909\n",
      "Iteration 4, loss = 1.21501579\n",
      "Iteration 5, loss = 2.75856173\n",
      "Iteration 6, loss = 1.22390880\n",
      "Iteration 7, loss = 0.73839755\n",
      "Iteration 8, loss = 0.76282104\n",
      "Iteration 9, loss = 0.69136288\n",
      "Iteration 10, loss = 0.70848357\n",
      "Iteration 11, loss = 0.67685239\n",
      "Iteration 12, loss = 0.66110188\n",
      "Iteration 13, loss = 0.65606158\n",
      "Iteration 14, loss = 0.64745339\n",
      "Iteration 15, loss = 0.63904067\n",
      "Iteration 16, loss = 0.63196806\n",
      "Iteration 17, loss = 0.62239852\n",
      "Iteration 18, loss = 0.61288902\n",
      "Iteration 19, loss = 0.60594388\n",
      "Iteration 20, loss = 0.59417959\n",
      "Iteration 21, loss = 0.58584082\n",
      "Iteration 22, loss = 0.57640910\n",
      "Iteration 23, loss = 0.56716512\n",
      "Iteration 24, loss = 0.56788778\n",
      "Iteration 25, loss = 0.56154181\n",
      "Iteration 26, loss = 0.55180724\n",
      "Iteration 27, loss = 0.53702230\n",
      "Iteration 28, loss = 0.53032494\n",
      "Iteration 29, loss = 0.51646200\n",
      "Iteration 30, loss = 0.51603168\n",
      "Iteration 31, loss = 0.50568046\n",
      "Iteration 32, loss = 0.49844603\n",
      "Iteration 33, loss = 0.49046399\n",
      "Iteration 34, loss = 0.48951241\n",
      "Iteration 35, loss = 0.47537229\n",
      "Iteration 36, loss = 0.47360231\n",
      "Iteration 37, loss = 0.46490657\n",
      "Iteration 38, loss = 0.45738730\n",
      "Iteration 39, loss = 0.45518448\n",
      "Iteration 40, loss = 0.45291627\n",
      "Iteration 41, loss = 0.44642550\n",
      "Iteration 42, loss = 0.44581543\n",
      "Iteration 43, loss = 0.44065587\n",
      "Iteration 44, loss = 0.44069346\n",
      "Iteration 45, loss = 0.43578581\n",
      "Iteration 46, loss = 0.42648465\n",
      "Iteration 47, loss = 0.42096708\n",
      "Iteration 48, loss = 0.42472979\n",
      "Iteration 49, loss = 0.41315516\n",
      "Iteration 50, loss = 0.41216349\n",
      "Iteration 1, loss = 8.43586566\n",
      "Iteration 2, loss = 9.33988061\n",
      "Iteration 3, loss = 1.52006683\n",
      "Iteration 4, loss = 1.21252893\n",
      "Iteration 5, loss = 2.77879550\n",
      "Iteration 6, loss = 1.20318455\n",
      "Iteration 7, loss = 0.74457196\n",
      "Iteration 8, loss = 0.74345304\n",
      "Iteration 9, loss = 0.68091277\n",
      "Iteration 10, loss = 0.69145621\n",
      "Iteration 11, loss = 0.68465926\n",
      "Iteration 12, loss = 0.67074100\n",
      "Iteration 13, loss = 0.66501969\n",
      "Iteration 14, loss = 0.66094113\n",
      "Iteration 15, loss = 0.65350636\n",
      "Iteration 16, loss = 0.64503874"
     ]
    },
    {
     "name": "stderr",
     "output_type": "stream",
     "text": [
      "C:\\Users\\AmirReza\\Anaconda3\\lib\\site-packages\\sklearn\\neural_network\\multilayer_perceptron.py:562: ConvergenceWarning: Stochastic Optimizer: Maximum iterations (50) reached and the optimization hasn't converged yet.\n",
      "  % self.max_iter, ConvergenceWarning)\n"
     ]
    },
    {
     "name": "stdout",
     "output_type": "stream",
     "text": [
      "\n",
      "Iteration 17, loss = 0.63895373\n",
      "Iteration 18, loss = 0.63004778\n",
      "Iteration 19, loss = 0.61647348\n",
      "Iteration 20, loss = 0.61008874\n",
      "Iteration 21, loss = 0.59567287\n",
      "Iteration 22, loss = 0.58878703\n",
      "Iteration 23, loss = 0.57108687\n",
      "Iteration 24, loss = 0.56626285\n",
      "Iteration 25, loss = 0.56663258\n",
      "Iteration 26, loss = 0.55783769\n",
      "Iteration 27, loss = 0.53519055\n",
      "Iteration 28, loss = 0.52408546\n",
      "Iteration 29, loss = 0.52809249\n",
      "Iteration 30, loss = 0.50598026\n",
      "Iteration 31, loss = 0.49674896\n",
      "Iteration 32, loss = 0.49563770\n",
      "Iteration 33, loss = 0.48562668\n",
      "Iteration 34, loss = 0.48166222\n",
      "Iteration 35, loss = 0.47187530\n",
      "Iteration 36, loss = 0.46636044\n",
      "Iteration 37, loss = 0.46258249\n",
      "Iteration 38, loss = 0.45433688\n",
      "Iteration 39, loss = 0.44075298\n",
      "Iteration 40, loss = 0.46516221\n",
      "Iteration 41, loss = 0.42986989\n",
      "Iteration 42, loss = 0.42790871\n",
      "Iteration 43, loss = 0.42524735\n",
      "Iteration 44, loss = 0.43494610\n",
      "Iteration 45, loss = 0.43732365\n",
      "Iteration 46, loss = 0.43165826\n",
      "Iteration 47, loss = 0.45354664\n",
      "Iteration 48, loss = 0.49321295\n",
      "Iteration 49, loss = 0.50724288\n",
      "Iteration 50, loss = 0.52516380\n",
      "Iteration 1, loss = 8.58665662\n",
      "Iteration 2, loss = 7.49345934\n",
      "Iteration 3, loss = 3.51490993\n",
      "Iteration 4, loss = 3.62116665\n",
      "Iteration 5, loss = 3.18691008\n",
      "Iteration 6, loss = 1.99685155\n",
      "Iteration 7, loss = 0.88074368\n",
      "Iteration 8, loss = 0.80786974\n",
      "Iteration 9, loss = 0.73493159\n",
      "Iteration 10, loss = 0.69841734\n",
      "Iteration 11, loss = 0.72264484\n",
      "Iteration 12, loss = 0.67350266\n",
      "Iteration 13, loss = 0.65972873\n",
      "Iteration 14, loss = 0.63880787\n",
      "Iteration 15, loss = 0.61256838"
     ]
    },
    {
     "name": "stderr",
     "output_type": "stream",
     "text": [
      "C:\\Users\\AmirReza\\Anaconda3\\lib\\site-packages\\sklearn\\neural_network\\multilayer_perceptron.py:562: ConvergenceWarning: Stochastic Optimizer: Maximum iterations (50) reached and the optimization hasn't converged yet.\n",
      "  % self.max_iter, ConvergenceWarning)\n"
     ]
    },
    {
     "name": "stdout",
     "output_type": "stream",
     "text": [
      "\n",
      "Iteration 16, loss = 0.56603272\n",
      "Iteration 17, loss = 0.56766386\n",
      "Iteration 18, loss = 0.59238036\n",
      "Iteration 19, loss = 0.47698504\n",
      "Iteration 20, loss = 0.48748035\n",
      "Iteration 21, loss = 0.49669930\n",
      "Iteration 22, loss = 0.43837454\n",
      "Iteration 23, loss = 0.53497031\n",
      "Iteration 24, loss = 0.51251155\n",
      "Iteration 25, loss = 0.45317582\n",
      "Iteration 26, loss = 0.46963696\n",
      "Iteration 27, loss = 0.41791213\n",
      "Iteration 28, loss = 0.41550848\n",
      "Iteration 29, loss = 0.46664187\n",
      "Iteration 30, loss = 0.44759886\n",
      "Iteration 31, loss = 0.48375975\n",
      "Iteration 32, loss = 0.42149807\n",
      "Iteration 33, loss = 0.42096291\n",
      "Iteration 34, loss = 0.41066707\n",
      "Iteration 35, loss = 0.40401945\n",
      "Iteration 36, loss = 0.39443735\n",
      "Iteration 37, loss = 0.38949196\n",
      "Iteration 38, loss = 0.39250509\n",
      "Iteration 39, loss = 0.43757517\n",
      "Iteration 40, loss = 0.40812487\n",
      "Iteration 41, loss = 0.40240624\n",
      "Iteration 42, loss = 0.40347542\n",
      "Iteration 43, loss = 0.37961876\n",
      "Iteration 44, loss = 0.37615156\n",
      "Iteration 45, loss = 0.37389458\n",
      "Iteration 46, loss = 0.36805804\n",
      "Iteration 47, loss = 0.39205033\n",
      "Iteration 48, loss = 0.36503421\n",
      "Iteration 49, loss = 0.38982032\n",
      "Iteration 50, loss = 0.37408807\n",
      "Iteration 1, loss = 8.61620952\n",
      "Iteration 2, loss = 6.03215000\n",
      "Iteration 3, loss = 2.63570209\n",
      "Iteration 4, loss = 1.71726832\n",
      "Iteration 5, loss = 3.44867843\n",
      "Iteration 6, loss = 2.57425875\n",
      "Iteration 7, loss = 1.12317416\n",
      "Iteration 8, loss = 0.88915312\n",
      "Iteration 9, loss = 0.83178311\n",
      "Iteration 10, loss = 0.68707682\n",
      "Iteration 11, loss = 0.70075859\n",
      "Iteration 12, loss = 0.70265261\n",
      "Iteration 13, loss = 0.67011195\n",
      "Iteration 14, loss = 0.66091795"
     ]
    },
    {
     "name": "stderr",
     "output_type": "stream",
     "text": [
      "C:\\Users\\AmirReza\\Anaconda3\\lib\\site-packages\\sklearn\\neural_network\\multilayer_perceptron.py:562: ConvergenceWarning: Stochastic Optimizer: Maximum iterations (50) reached and the optimization hasn't converged yet.\n",
      "  % self.max_iter, ConvergenceWarning)\n"
     ]
    },
    {
     "name": "stdout",
     "output_type": "stream",
     "text": [
      "\n",
      "Iteration 15, loss = 0.66995252\n",
      "Iteration 16, loss = 0.67116943\n",
      "Iteration 17, loss = 0.66536734\n",
      "Iteration 18, loss = 0.65773324\n",
      "Iteration 19, loss = 0.65409579\n",
      "Iteration 20, loss = 0.65231143\n",
      "Iteration 21, loss = 0.65020514\n",
      "Iteration 22, loss = 0.64565384\n",
      "Iteration 23, loss = 0.63883557\n",
      "Iteration 24, loss = 0.63333972\n",
      "Iteration 25, loss = 0.62808876\n",
      "Iteration 26, loss = 0.62159004\n",
      "Iteration 27, loss = 0.61146729\n",
      "Iteration 28, loss = 0.60069302\n",
      "Iteration 29, loss = 0.59106209\n",
      "Iteration 30, loss = 0.57976487\n",
      "Iteration 31, loss = 0.56468321\n",
      "Iteration 32, loss = 0.55153704\n",
      "Iteration 33, loss = 0.53767693\n",
      "Iteration 34, loss = 0.53382485\n",
      "Iteration 35, loss = 0.51668710\n",
      "Iteration 36, loss = 0.50958417\n",
      "Iteration 37, loss = 0.49625291\n",
      "Iteration 38, loss = 0.49428357\n",
      "Iteration 39, loss = 0.49552442\n",
      "Iteration 40, loss = 0.47278999\n",
      "Iteration 41, loss = 0.46503135\n",
      "Iteration 42, loss = 0.46026448\n",
      "Iteration 43, loss = 0.45574948\n",
      "Iteration 44, loss = 0.45027868\n",
      "Iteration 45, loss = 0.45000049\n",
      "Iteration 46, loss = 0.44094324\n",
      "Iteration 47, loss = 0.43859124\n",
      "Iteration 48, loss = 0.44502762\n",
      "Iteration 49, loss = 0.44732417\n",
      "Iteration 50, loss = 0.44321283\n"
     ]
    },
    {
     "name": "stderr",
     "output_type": "stream",
     "text": [
      "C:\\Users\\AmirReza\\Anaconda3\\lib\\site-packages\\sklearn\\neural_network\\multilayer_perceptron.py:562: ConvergenceWarning: Stochastic Optimizer: Maximum iterations (50) reached and the optimization hasn't converged yet.\n",
      "  % self.max_iter, ConvergenceWarning)\n"
     ]
    },
    {
     "name": "stdout",
     "output_type": "stream",
     "text": [
      "Iteration 1, loss = 8.61399351\n",
      "Iteration 2, loss = 6.06124866\n",
      "Iteration 3, loss = 5.62653242\n",
      "Iteration 4, loss = 3.13568611\n",
      "Iteration 5, loss = 2.95684883\n",
      "Iteration 6, loss = 0.89224969\n",
      "Iteration 7, loss = 0.72053268\n",
      "Iteration 8, loss = 0.72358547\n",
      "Iteration 9, loss = 0.67785375\n",
      "Iteration 10, loss = 0.69167007\n",
      "Iteration 11, loss = 0.67244353\n",
      "Iteration 12, loss = 0.68120867\n",
      "Iteration 13, loss = 0.66608667\n",
      "Iteration 14, loss = 0.67156796\n",
      "Iteration 15, loss = 0.65903514\n",
      "Iteration 16, loss = 0.65325059\n",
      "Iteration 17, loss = 0.64273737\n",
      "Iteration 18, loss = 0.63270976\n",
      "Iteration 19, loss = 0.62374588\n",
      "Iteration 20, loss = 0.61560512\n",
      "Iteration 21, loss = 0.60071282\n",
      "Iteration 22, loss = 0.58472217\n",
      "Iteration 23, loss = 0.57748713\n",
      "Iteration 24, loss = 0.59234837\n",
      "Iteration 25, loss = 0.56154213\n",
      "Iteration 26, loss = 0.57741706\n",
      "Iteration 27, loss = 0.57255626\n",
      "Iteration 28, loss = 0.53138035\n",
      "Iteration 29, loss = 0.53646102\n",
      "Iteration 30, loss = 0.55765389\n",
      "Iteration 31, loss = 0.55459399\n",
      "Iteration 32, loss = 0.54547786\n",
      "Iteration 33, loss = 0.51638192\n",
      "Iteration 34, loss = 0.54787563\n",
      "Iteration 35, loss = 0.51674401\n",
      "Iteration 36, loss = 0.51298542\n",
      "Iteration 37, loss = 0.49298680\n",
      "Iteration 38, loss = 0.49774840\n",
      "Iteration 39, loss = 0.50364360\n",
      "Iteration 40, loss = 0.48526967\n",
      "Iteration 41, loss = 0.47443021\n",
      "Iteration 42, loss = 0.47539837\n",
      "Iteration 43, loss = 0.46913392\n",
      "Iteration 44, loss = 0.46606290\n",
      "Iteration 45, loss = 0.46118697\n",
      "Iteration 46, loss = 0.45372576\n",
      "Iteration 47, loss = 0.45621893\n",
      "Iteration 48, loss = 0.46233095\n",
      "Iteration 49, loss = 0.46028580\n",
      "Iteration 50, loss = 0.46552391\n",
      "Iteration 1, loss = 8.63312932"
     ]
    },
    {
     "name": "stderr",
     "output_type": "stream",
     "text": [
      "C:\\Users\\AmirReza\\Anaconda3\\lib\\site-packages\\sklearn\\neural_network\\multilayer_perceptron.py:562: ConvergenceWarning: Stochastic Optimizer: Maximum iterations (50) reached and the optimization hasn't converged yet.\n",
      "  % self.max_iter, ConvergenceWarning)\n"
     ]
    },
    {
     "name": "stdout",
     "output_type": "stream",
     "text": [
      "\n",
      "Iteration 2, loss = 5.88905289\n",
      "Iteration 3, loss = 1.66728768\n",
      "Iteration 4, loss = 1.56099031\n",
      "Iteration 5, loss = 1.71997554\n",
      "Iteration 6, loss = 0.85875039\n",
      "Iteration 7, loss = 0.87663631\n",
      "Iteration 8, loss = 0.69997911\n",
      "Iteration 9, loss = 0.74119715\n",
      "Iteration 10, loss = 0.69072393\n",
      "Iteration 11, loss = 0.67902897\n",
      "Iteration 12, loss = 0.67591400\n",
      "Iteration 13, loss = 0.67166775\n",
      "Iteration 14, loss = 0.66777428\n",
      "Iteration 15, loss = 0.66594790\n",
      "Iteration 16, loss = 0.65417366\n",
      "Iteration 17, loss = 0.65002769\n",
      "Iteration 18, loss = 0.64043754\n",
      "Iteration 19, loss = 0.62799845\n",
      "Iteration 20, loss = 0.61615260\n",
      "Iteration 21, loss = 0.60619785\n",
      "Iteration 22, loss = 0.59445363\n",
      "Iteration 23, loss = 0.58196903\n",
      "Iteration 24, loss = 0.56946439\n",
      "Iteration 25, loss = 0.56013275\n",
      "Iteration 26, loss = 0.55792855\n",
      "Iteration 27, loss = 0.58024592\n",
      "Iteration 28, loss = 0.53617367\n",
      "Iteration 29, loss = 0.55015105\n",
      "Iteration 30, loss = 0.53847944\n",
      "Iteration 31, loss = 0.50741029\n",
      "Iteration 32, loss = 0.51158332\n",
      "Iteration 33, loss = 0.49498720\n",
      "Iteration 34, loss = 0.48428080\n",
      "Iteration 35, loss = 0.47780632\n",
      "Iteration 36, loss = 0.46920590\n",
      "Iteration 37, loss = 0.47727089\n",
      "Iteration 38, loss = 0.49301842\n",
      "Iteration 39, loss = 0.53630941\n",
      "Iteration 40, loss = 0.49945450\n",
      "Iteration 41, loss = 0.48107726\n",
      "Iteration 42, loss = 0.50017654\n",
      "Iteration 43, loss = 0.45569913\n",
      "Iteration 44, loss = 0.44076479\n",
      "Iteration 45, loss = 0.43601860\n",
      "Iteration 46, loss = 0.42825297\n",
      "Iteration 47, loss = 0.42580551\n",
      "Iteration 48, loss = 0.42338157\n",
      "Iteration 49, loss = 0.41746976\n",
      "Iteration 50, loss = 0.42063840\n",
      "Iteration 1, loss = 8.58265592\n",
      "Iteration 2, loss = 5.36570217\n",
      "Iteration 3, loss = 1.27051740\n",
      "Iteration 4, loss = 1.01402511\n",
      "Iteration 5, loss = 0.90935066\n",
      "Iteration 6, loss = 0.94322217\n",
      "Iteration 7, loss = 0.69890000\n",
      "Iteration 8, loss = 0.68134915\n",
      "Iteration 9, loss = 0.68138573\n",
      "Iteration 10, loss = 0.68088563\n",
      "Iteration 11, loss = 0.67959866\n",
      "Iteration 12, loss = 0.67809983\n",
      "Iteration 13, loss = 0.67721897\n",
      "Iteration 14, loss = 0.67695975\n"
     ]
    },
    {
     "name": "stderr",
     "output_type": "stream",
     "text": [
      "C:\\Users\\AmirReza\\Anaconda3\\lib\\site-packages\\sklearn\\neural_network\\multilayer_perceptron.py:562: ConvergenceWarning: Stochastic Optimizer: Maximum iterations (50) reached and the optimization hasn't converged yet.\n",
      "  % self.max_iter, ConvergenceWarning)\n"
     ]
    },
    {
     "name": "stdout",
     "output_type": "stream",
     "text": [
      "Iteration 15, loss = 0.67642672\n",
      "Iteration 16, loss = 0.67637717\n",
      "Iteration 17, loss = 0.67629388\n",
      "Iteration 18, loss = 0.67636343\n",
      "Iteration 19, loss = 0.67644608\n",
      "Iteration 20, loss = 0.67653628\n",
      "Iteration 21, loss = 0.67654562\n",
      "Iteration 22, loss = 0.67659002\n",
      "Iteration 23, loss = 0.67648948\n",
      "Iteration 24, loss = 0.67644575\n",
      "Iteration 25, loss = 0.67643106\n",
      "Iteration 26, loss = 0.67639800\n",
      "Training loss did not improve more than tol=0.000100 for 10 consecutive epochs. Stopping.\n",
      "Iteration 1, loss = 8.60807864\n",
      "Iteration 2, loss = 7.24349779\n",
      "Iteration 3, loss = 1.59041658\n",
      "Iteration 4, loss = 0.91694193\n",
      "Iteration 5, loss = 0.85434638\n",
      "Iteration 6, loss = 0.68112874\n",
      "Iteration 7, loss = 0.67238452\n",
      "Iteration 8, loss = 0.67739476\n",
      "Iteration 9, loss = 0.67757223\n",
      "Iteration 10, loss = 0.67736266\n",
      "Iteration 11, loss = 0.67664803\n",
      "Iteration 12, loss = 0.67655002\n",
      "Iteration 13, loss = 0.67655019\n",
      "Iteration 14, loss = 0.67670412\n",
      "Iteration 15, loss = 0.67654058\n",
      "Iteration 16, loss = 0.67654703\n",
      "Iteration 17, loss = 0.67645920\n",
      "Iteration 18, loss = 0.67636462\n",
      "Training loss did not improve more than tol=0.000100 for 10 consecutive epochs. Stopping.\n",
      "Iteration 1, loss = 8.60498596\n",
      "Iteration 2, loss = 5.07411628\n",
      "Iteration 3, loss = 0.86127781\n",
      "Iteration 4, loss = 0.71859720\n",
      "Iteration 5, loss = 1.21885085\n",
      "Iteration 6, loss = 0.71016697\n",
      "Iteration 7, loss = 0.80663780\n",
      "Iteration 8, loss = 0.67705538\n",
      "Iteration 9, loss = 0.68070236\n",
      "Iteration 10, loss = 0.67324138\n",
      "Iteration 11, loss = 0.67275377\n",
      "Iteration 12, loss = 0.67336718\n",
      "Iteration 13, loss = 0.67006458\n",
      "Iteration 14, loss = 0.66911585\n",
      "Iteration 15, loss = 0.66879778\n",
      "Iteration 16, loss = 0.67055410\n",
      "Iteration 17, loss = 0.66999867\n",
      "Iteration 18, loss = 0.67369993\n",
      "Iteration 19, loss = 0.66644102\n",
      "Iteration 20, loss = 0.67042589\n",
      "Iteration 21, loss = 0.66471325\n",
      "Iteration 22, loss = 0.66625229\n",
      "Iteration 23, loss = 0.66334429\n",
      "Iteration 24, loss = 0.66845356\n",
      "Iteration 25, loss = 0.66766714\n",
      "Iteration 26, loss = 0.66682783\n",
      "Iteration 27, loss = 0.66672752\n",
      "Iteration 28, loss = 0.66663909\n",
      "Iteration 29, loss = 0.66411700\n",
      "Iteration 30, loss = 0.66311793\n",
      "Iteration 31, loss = 0.66262881\n",
      "Iteration 32, loss = 0.66198346\n",
      "Iteration 33, loss = 0.66177395\n",
      "Iteration 34, loss = 0.66239156\n",
      "Iteration 35, loss = 0.66210223\n",
      "Iteration 36, loss = 0.66652446\n",
      "Iteration 37, loss = 0.66574446\n",
      "Iteration 38, loss = 0.65951348\n",
      "Iteration 39, loss = 0.66632548\n",
      "Iteration 40, loss = 0.65957947\n",
      "Iteration 41, loss = 0.66205196\n",
      "Iteration 42, loss = 0.66714425\n",
      "Iteration 43, loss = 0.65899188\n",
      "Iteration 44, loss = 0.66287421\n",
      "Iteration 45, loss = 0.66197712\n",
      "Iteration 46, loss = 0.66099006\n",
      "Iteration 47, loss = 0.66103500\n",
      "Iteration 48, loss = 0.65900988\n",
      "Iteration 49, loss = 0.66097626\n",
      "Iteration 50, loss = 0.65857143\n",
      "Iteration 1, loss = 8.60834424\n",
      "Iteration 2, loss = 9.43130928\n",
      "Iteration 3, loss = 6.78330200"
     ]
    },
    {
     "name": "stderr",
     "output_type": "stream",
     "text": [
      "C:\\Users\\AmirReza\\Anaconda3\\lib\\site-packages\\sklearn\\neural_network\\multilayer_perceptron.py:562: ConvergenceWarning: Stochastic Optimizer: Maximum iterations (50) reached and the optimization hasn't converged yet.\n",
      "  % self.max_iter, ConvergenceWarning)\n"
     ]
    },
    {
     "name": "stdout",
     "output_type": "stream",
     "text": [
      "\n",
      "Iteration 4, loss = 4.60113017\n",
      "Iteration 5, loss = 2.28502510\n",
      "Iteration 6, loss = 0.85402356\n",
      "Iteration 7, loss = 0.80526349\n",
      "Iteration 8, loss = 0.70678588\n",
      "Iteration 9, loss = 0.71995354\n",
      "Iteration 10, loss = 0.68344863\n",
      "Iteration 11, loss = 0.67191926\n",
      "Iteration 12, loss = 0.67071006\n",
      "Iteration 13, loss = 0.64629304\n",
      "Iteration 14, loss = 0.64845568\n",
      "Iteration 15, loss = 0.63269149\n",
      "Iteration 16, loss = 0.62149699\n",
      "Iteration 17, loss = 0.60710659\n",
      "Iteration 18, loss = 0.59082568\n",
      "Iteration 19, loss = 0.56646365\n",
      "Iteration 20, loss = 0.55010993\n",
      "Iteration 21, loss = 0.52573127\n",
      "Iteration 22, loss = 0.51427880\n",
      "Iteration 23, loss = 0.50839027\n",
      "Iteration 24, loss = 0.51641185\n",
      "Iteration 25, loss = 0.52051059\n",
      "Iteration 26, loss = 0.48951692\n",
      "Iteration 27, loss = 0.47333237\n",
      "Iteration 28, loss = 0.48840977\n",
      "Iteration 29, loss = 0.48681844\n",
      "Iteration 30, loss = 0.48938529\n",
      "Iteration 31, loss = 0.51305491\n",
      "Iteration 32, loss = 0.45494346\n",
      "Iteration 33, loss = 0.44660750\n",
      "Iteration 34, loss = 0.45159246\n",
      "Iteration 35, loss = 0.44799047\n",
      "Iteration 36, loss = 0.44695791\n",
      "Iteration 37, loss = 0.45272299\n",
      "Iteration 38, loss = 0.44173448\n",
      "Iteration 39, loss = 0.45725918\n",
      "Iteration 40, loss = 0.43766608\n",
      "Iteration 41, loss = 0.42772510\n",
      "Iteration 42, loss = 0.42688878\n",
      "Iteration 43, loss = 0.49237346\n",
      "Iteration 44, loss = 0.51022680\n",
      "Iteration 45, loss = 0.50990021\n",
      "Iteration 46, loss = 0.51839552\n",
      "Iteration 47, loss = 0.48330217\n",
      "Iteration 48, loss = 0.47020627\n",
      "Iteration 49, loss = 0.47263880\n",
      "Iteration 50, loss = 0.44394160\n"
     ]
    },
    {
     "name": "stderr",
     "output_type": "stream",
     "text": [
      "C:\\Users\\AmirReza\\Anaconda3\\lib\\site-packages\\sklearn\\neural_network\\multilayer_perceptron.py:562: ConvergenceWarning: Stochastic Optimizer: Maximum iterations (50) reached and the optimization hasn't converged yet.\n",
      "  % self.max_iter, ConvergenceWarning)\n"
     ]
    },
    {
     "data": {
      "text/plain": [
       "0.6769658238399556"
      ]
     },
     "execution_count": 31,
     "metadata": {},
     "output_type": "execute_result"
    }
   ],
   "source": [
    "MLP = MLPClassifier(activation = 'relu', hidden_layer_sizes = (100, 120),\n",
    "                    learning_rate_init = 0.05,\n",
    "                    learning_rate = 'invscaling',\n",
    "                    momentum = 0.9, max_iter = 50, verbose = 1)\n",
    "\n",
    "scores = cross_val_score(MLP, x , y , cv =10 , scoring = 'accuracy')\n",
    "scores.mean()\n"
   ]
  },
  {
   "cell_type": "code",
   "execution_count": 19,
   "metadata": {},
   "outputs": [
    {
     "name": "stderr",
     "output_type": "stream",
     "text": [
      "C:\\Users\\AmirReza\\Anaconda3\\lib\\site-packages\\sklearn\\neural_network\\multilayer_perceptron.py:562: ConvergenceWarning: Stochastic Optimizer: Maximum iterations (200) reached and the optimization hasn't converged yet.\n",
      "  % self.max_iter, ConvergenceWarning)\n",
      "C:\\Users\\AmirReza\\Anaconda3\\lib\\site-packages\\sklearn\\neural_network\\multilayer_perceptron.py:562: ConvergenceWarning: Stochastic Optimizer: Maximum iterations (200) reached and the optimization hasn't converged yet.\n",
      "  % self.max_iter, ConvergenceWarning)\n",
      "C:\\Users\\AmirReza\\Anaconda3\\lib\\site-packages\\sklearn\\neural_network\\multilayer_perceptron.py:562: ConvergenceWarning: Stochastic Optimizer: Maximum iterations (200) reached and the optimization hasn't converged yet.\n",
      "  % self.max_iter, ConvergenceWarning)\n",
      "C:\\Users\\AmirReza\\Anaconda3\\lib\\site-packages\\sklearn\\neural_network\\multilayer_perceptron.py:562: ConvergenceWarning: Stochastic Optimizer: Maximum iterations (200) reached and the optimization hasn't converged yet.\n",
      "  % self.max_iter, ConvergenceWarning)\n",
      "C:\\Users\\AmirReza\\Anaconda3\\lib\\site-packages\\sklearn\\neural_network\\multilayer_perceptron.py:562: ConvergenceWarning: Stochastic Optimizer: Maximum iterations (200) reached and the optimization hasn't converged yet.\n",
      "  % self.max_iter, ConvergenceWarning)\n",
      "C:\\Users\\AmirReza\\Anaconda3\\lib\\site-packages\\sklearn\\neural_network\\multilayer_perceptron.py:562: ConvergenceWarning: Stochastic Optimizer: Maximum iterations (200) reached and the optimization hasn't converged yet.\n",
      "  % self.max_iter, ConvergenceWarning)\n",
      "C:\\Users\\AmirReza\\Anaconda3\\lib\\site-packages\\sklearn\\neural_network\\multilayer_perceptron.py:562: ConvergenceWarning: Stochastic Optimizer: Maximum iterations (200) reached and the optimization hasn't converged yet.\n",
      "  % self.max_iter, ConvergenceWarning)\n",
      "C:\\Users\\AmirReza\\Anaconda3\\lib\\site-packages\\sklearn\\neural_network\\multilayer_perceptron.py:562: ConvergenceWarning: Stochastic Optimizer: Maximum iterations (200) reached and the optimization hasn't converged yet.\n",
      "  % self.max_iter, ConvergenceWarning)\n",
      "C:\\Users\\AmirReza\\Anaconda3\\lib\\site-packages\\sklearn\\neural_network\\multilayer_perceptron.py:562: ConvergenceWarning: Stochastic Optimizer: Maximum iterations (200) reached and the optimization hasn't converged yet.\n",
      "  % self.max_iter, ConvergenceWarning)\n",
      "C:\\Users\\AmirReza\\Anaconda3\\lib\\site-packages\\sklearn\\neural_network\\multilayer_perceptron.py:562: ConvergenceWarning: Stochastic Optimizer: Maximum iterations (200) reached and the optimization hasn't converged yet.\n",
      "  % self.max_iter, ConvergenceWarning)\n",
      "C:\\Users\\AmirReza\\Anaconda3\\lib\\site-packages\\sklearn\\neural_network\\multilayer_perceptron.py:562: ConvergenceWarning: Stochastic Optimizer: Maximum iterations (200) reached and the optimization hasn't converged yet.\n",
      "  % self.max_iter, ConvergenceWarning)\n",
      "C:\\Users\\AmirReza\\Anaconda3\\lib\\site-packages\\sklearn\\neural_network\\multilayer_perceptron.py:562: ConvergenceWarning: Stochastic Optimizer: Maximum iterations (200) reached and the optimization hasn't converged yet.\n",
      "  % self.max_iter, ConvergenceWarning)\n",
      "C:\\Users\\AmirReza\\Anaconda3\\lib\\site-packages\\sklearn\\neural_network\\multilayer_perceptron.py:562: ConvergenceWarning: Stochastic Optimizer: Maximum iterations (200) reached and the optimization hasn't converged yet.\n",
      "  % self.max_iter, ConvergenceWarning)\n",
      "C:\\Users\\AmirReza\\Anaconda3\\lib\\site-packages\\sklearn\\neural_network\\multilayer_perceptron.py:562: ConvergenceWarning: Stochastic Optimizer: Maximum iterations (200) reached and the optimization hasn't converged yet.\n",
      "  % self.max_iter, ConvergenceWarning)\n",
      "C:\\Users\\AmirReza\\Anaconda3\\lib\\site-packages\\sklearn\\neural_network\\multilayer_perceptron.py:562: ConvergenceWarning: Stochastic Optimizer: Maximum iterations (200) reached and the optimization hasn't converged yet.\n",
      "  % self.max_iter, ConvergenceWarning)\n",
      "C:\\Users\\AmirReza\\Anaconda3\\lib\\site-packages\\sklearn\\neural_network\\multilayer_perceptron.py:562: ConvergenceWarning: Stochastic Optimizer: Maximum iterations (200) reached and the optimization hasn't converged yet.\n",
      "  % self.max_iter, ConvergenceWarning)\n",
      "C:\\Users\\AmirReza\\Anaconda3\\lib\\site-packages\\sklearn\\neural_network\\multilayer_perceptron.py:562: ConvergenceWarning: Stochastic Optimizer: Maximum iterations (200) reached and the optimization hasn't converged yet.\n",
      "  % self.max_iter, ConvergenceWarning)\n",
      "C:\\Users\\AmirReza\\Anaconda3\\lib\\site-packages\\sklearn\\neural_network\\multilayer_perceptron.py:562: ConvergenceWarning: Stochastic Optimizer: Maximum iterations (200) reached and the optimization hasn't converged yet.\n",
      "  % self.max_iter, ConvergenceWarning)\n",
      "C:\\Users\\AmirReza\\Anaconda3\\lib\\site-packages\\sklearn\\neural_network\\multilayer_perceptron.py:562: ConvergenceWarning: Stochastic Optimizer: Maximum iterations (200) reached and the optimization hasn't converged yet.\n",
      "  % self.max_iter, ConvergenceWarning)\n",
      "C:\\Users\\AmirReza\\Anaconda3\\lib\\site-packages\\sklearn\\neural_network\\multilayer_perceptron.py:562: ConvergenceWarning: Stochastic Optimizer: Maximum iterations (200) reached and the optimization hasn't converged yet.\n",
      "  % self.max_iter, ConvergenceWarning)\n",
      "C:\\Users\\AmirReza\\Anaconda3\\lib\\site-packages\\sklearn\\neural_network\\multilayer_perceptron.py:562: ConvergenceWarning: Stochastic Optimizer: Maximum iterations (200) reached and the optimization hasn't converged yet.\n",
      "  % self.max_iter, ConvergenceWarning)\n",
      "C:\\Users\\AmirReza\\Anaconda3\\lib\\site-packages\\sklearn\\neural_network\\multilayer_perceptron.py:562: ConvergenceWarning: Stochastic Optimizer: Maximum iterations (200) reached and the optimization hasn't converged yet.\n",
      "  % self.max_iter, ConvergenceWarning)\n",
      "C:\\Users\\AmirReza\\Anaconda3\\lib\\site-packages\\sklearn\\neural_network\\multilayer_perceptron.py:562: ConvergenceWarning: Stochastic Optimizer: Maximum iterations (200) reached and the optimization hasn't converged yet.\n",
      "  % self.max_iter, ConvergenceWarning)\n",
      "C:\\Users\\AmirReza\\Anaconda3\\lib\\site-packages\\sklearn\\neural_network\\multilayer_perceptron.py:562: ConvergenceWarning: Stochastic Optimizer: Maximum iterations (200) reached and the optimization hasn't converged yet.\n",
      "  % self.max_iter, ConvergenceWarning)\n",
      "C:\\Users\\AmirReza\\Anaconda3\\lib\\site-packages\\sklearn\\neural_network\\multilayer_perceptron.py:562: ConvergenceWarning: Stochastic Optimizer: Maximum iterations (200) reached and the optimization hasn't converged yet.\n",
      "  % self.max_iter, ConvergenceWarning)\n",
      "C:\\Users\\AmirReza\\Anaconda3\\lib\\site-packages\\sklearn\\neural_network\\multilayer_perceptron.py:562: ConvergenceWarning: Stochastic Optimizer: Maximum iterations (200) reached and the optimization hasn't converged yet.\n",
      "  % self.max_iter, ConvergenceWarning)\n",
      "C:\\Users\\AmirReza\\Anaconda3\\lib\\site-packages\\sklearn\\neural_network\\multilayer_perceptron.py:562: ConvergenceWarning: Stochastic Optimizer: Maximum iterations (200) reached and the optimization hasn't converged yet.\n",
      "  % self.max_iter, ConvergenceWarning)\n",
      "C:\\Users\\AmirReza\\Anaconda3\\lib\\site-packages\\sklearn\\neural_network\\multilayer_perceptron.py:562: ConvergenceWarning: Stochastic Optimizer: Maximum iterations (200) reached and the optimization hasn't converged yet.\n",
      "  % self.max_iter, ConvergenceWarning)\n",
      "C:\\Users\\AmirReza\\Anaconda3\\lib\\site-packages\\sklearn\\neural_network\\multilayer_perceptron.py:562: ConvergenceWarning: Stochastic Optimizer: Maximum iterations (200) reached and the optimization hasn't converged yet.\n",
      "  % self.max_iter, ConvergenceWarning)\n",
      "C:\\Users\\AmirReza\\Anaconda3\\lib\\site-packages\\sklearn\\neural_network\\multilayer_perceptron.py:562: ConvergenceWarning: Stochastic Optimizer: Maximum iterations (200) reached and the optimization hasn't converged yet.\n",
      "  % self.max_iter, ConvergenceWarning)\n",
      "C:\\Users\\AmirReza\\Anaconda3\\lib\\site-packages\\sklearn\\neural_network\\multilayer_perceptron.py:562: ConvergenceWarning: Stochastic Optimizer: Maximum iterations (200) reached and the optimization hasn't converged yet.\n",
      "  % self.max_iter, ConvergenceWarning)\n",
      "C:\\Users\\AmirReza\\Anaconda3\\lib\\site-packages\\sklearn\\neural_network\\multilayer_perceptron.py:562: ConvergenceWarning: Stochastic Optimizer: Maximum iterations (200) reached and the optimization hasn't converged yet.\n",
      "  % self.max_iter, ConvergenceWarning)\n",
      "C:\\Users\\AmirReza\\Anaconda3\\lib\\site-packages\\sklearn\\neural_network\\multilayer_perceptron.py:562: ConvergenceWarning: Stochastic Optimizer: Maximum iterations (200) reached and the optimization hasn't converged yet.\n",
      "  % self.max_iter, ConvergenceWarning)\n"
     ]
    },
    {
     "name": "stderr",
     "output_type": "stream",
     "text": [
      "C:\\Users\\AmirReza\\Anaconda3\\lib\\site-packages\\sklearn\\neural_network\\multilayer_perceptron.py:562: ConvergenceWarning: Stochastic Optimizer: Maximum iterations (200) reached and the optimization hasn't converged yet.\n",
      "  % self.max_iter, ConvergenceWarning)\n",
      "C:\\Users\\AmirReza\\Anaconda3\\lib\\site-packages\\sklearn\\neural_network\\multilayer_perceptron.py:562: ConvergenceWarning: Stochastic Optimizer: Maximum iterations (200) reached and the optimization hasn't converged yet.\n",
      "  % self.max_iter, ConvergenceWarning)\n",
      "C:\\Users\\AmirReza\\Anaconda3\\lib\\site-packages\\sklearn\\neural_network\\multilayer_perceptron.py:562: ConvergenceWarning: Stochastic Optimizer: Maximum iterations (200) reached and the optimization hasn't converged yet.\n",
      "  % self.max_iter, ConvergenceWarning)\n",
      "C:\\Users\\AmirReza\\Anaconda3\\lib\\site-packages\\sklearn\\neural_network\\multilayer_perceptron.py:562: ConvergenceWarning: Stochastic Optimizer: Maximum iterations (200) reached and the optimization hasn't converged yet.\n",
      "  % self.max_iter, ConvergenceWarning)\n",
      "C:\\Users\\AmirReza\\Anaconda3\\lib\\site-packages\\sklearn\\neural_network\\multilayer_perceptron.py:562: ConvergenceWarning: Stochastic Optimizer: Maximum iterations (200) reached and the optimization hasn't converged yet.\n",
      "  % self.max_iter, ConvergenceWarning)\n",
      "C:\\Users\\AmirReza\\Anaconda3\\lib\\site-packages\\sklearn\\neural_network\\multilayer_perceptron.py:562: ConvergenceWarning: Stochastic Optimizer: Maximum iterations (200) reached and the optimization hasn't converged yet.\n",
      "  % self.max_iter, ConvergenceWarning)\n",
      "C:\\Users\\AmirReza\\Anaconda3\\lib\\site-packages\\sklearn\\neural_network\\multilayer_perceptron.py:562: ConvergenceWarning: Stochastic Optimizer: Maximum iterations (200) reached and the optimization hasn't converged yet.\n",
      "  % self.max_iter, ConvergenceWarning)\n",
      "C:\\Users\\AmirReza\\Anaconda3\\lib\\site-packages\\sklearn\\model_selection\\_search.py:841: DeprecationWarning: The default of the `iid` parameter will change from True to False in version 0.22 and will be removed in 0.24. This will change numeric results when test-set sizes are unequal.\n",
      "  DeprecationWarning)\n"
     ]
    },
    {
     "data": {
      "text/plain": [
       "GridSearchCV(cv=5, error_score='raise-deprecating',\n",
       "       estimator=MLPClassifier(activation='relu', alpha=0.0001, batch_size='auto', beta_1=0.9,\n",
       "       beta_2=0.999, early_stopping=False, epsilon=1e-08,\n",
       "       hidden_layer_sizes=(100,), learning_rate='constant',\n",
       "       learning_rate_init=0.001, max_iter=200, momentum=0.9,\n",
       "       n_iter_no_change=10, nesterovs_momentum=True, power_t=0.5,\n",
       "       random_state=8, shuffle=True, solver='adam', tol=0.0001,\n",
       "       validation_fraction=0.1, verbose=False, warm_start=False),\n",
       "       fit_params=None, iid='warn', n_jobs=None,\n",
       "       param_grid={'activation': ['relu', 'logistic', 'tanh'], 'hidden_layer_sizes': [10, 20, (20, 30)], 'learning_rate_init': [0.001, 0.005, 0.02, 0.05, 0.1, 0.2]},\n",
       "       pre_dispatch='2*n_jobs', refit=True, return_train_score='warn',\n",
       "       scoring='accuracy', verbose=0)"
      ]
     },
     "execution_count": 19,
     "metadata": {},
     "output_type": "execute_result"
    }
   ],
   "source": [
    "from sklearn.model_selection import GridSearchCV\n",
    "\n",
    "MLP = MLPClassifier()\n",
    "\n",
    "param = {\"activation\" : [\"relu\" , \"logistic\" , \"tanh\"],\n",
    "         \"hidden_layer_sizes\":[(10), (20), (20,30)],\n",
    "         \"max_iter\" : [10, 50, 100, 200],\n",
    "         \"solver\": [\"sgd\", \"adam\"],\n",
    "         \"learning_rate_init\": [0.01, 0.001, 0.0001, 0.025]}\n",
    "\n",
    "GS = GridSearchCV(MLP, param, cv = 10)\n",
    "         \n",
    "GS.fit(x , y)  \n"
   ]
  },
  {
   "cell_type": "code",
   "execution_count": 21,
   "metadata": {},
   "outputs": [
    {
     "data": {
      "text/plain": [
       "0.8324958123953099"
      ]
     },
     "execution_count": 21,
     "metadata": {},
     "output_type": "execute_result"
    }
   ],
   "source": [
    "GS.best_score_"
   ]
  },
  {
   "cell_type": "code",
   "execution_count": 22,
   "metadata": {
    "scrolled": true
   },
   "outputs": [
    {
     "data": {
      "text/plain": [
       "{'activation': 'logistic',\n",
       " 'hidden_layer_sizes': 10,\n",
       " 'learning_rate_init': 0.005}"
      ]
     },
     "execution_count": 22,
     "metadata": {},
     "output_type": "execute_result"
    }
   ],
   "source": [
    "GS.best_params_"
   ]
  }
 ],
 "metadata": {
  "kernelspec": {
   "display_name": "Python 3 (ipykernel)",
   "language": "python",
   "name": "python3"
  },
  "language_info": {
   "codemirror_mode": {
    "name": "ipython",
    "version": 3
   },
   "file_extension": ".py",
   "mimetype": "text/x-python",
   "name": "python",
   "nbconvert_exporter": "python",
   "pygments_lexer": "ipython3",
   "version": "3.9.7"
  }
 },
 "nbformat": 4,
 "nbformat_minor": 2
}
